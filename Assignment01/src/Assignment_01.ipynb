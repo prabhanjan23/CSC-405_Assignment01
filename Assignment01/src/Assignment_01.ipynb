{
 "cells": [
  {
   "cell_type": "markdown",
   "id": "81d2b209",
   "metadata": {
    "pycharm": {
     "name": "#%% md\n"
    }
   },
   "source": [
    "# Assignment 1\n",
    "## Prabhanjan Piwalatkar\n",
    "Importing csv and random libraries in order to read a file of names into a list and randomly generate teams from the list of students."
   ]
  },
  {
   "cell_type": "code",
   "execution_count": 126,
   "id": "c55e3cfc",
   "metadata": {
    "pycharm": {
     "name": "#%%\n"
    }
   },
   "outputs": [
    {
     "name": "stdout",
     "output_type": "stream",
     "text": [
      "Enter number of teams:\n",
      "6\n",
      "\n",
      " ['Student', 'Hash']\n",
      "Team 1 :  [['Ballard, Chase', '-4494717326103606566'], ['Gonzalez, Franque', '-3665898822304591280']]\n",
      "Team 2 :  [['Brown, Luke', '-4399508827983764619'], ['Li, Yinru', '-2963057415119192736'], ['Bridges, Stuart', '-4400890410244052807']]\n",
      "Team 3 :  [['Hitney, Savannah', '-3548013468436693795'], ['Student, Test', '-1835693265805300915']]\n",
      "Team 4 :  [['Luu, Luong', '-2881243527676305147'], ['Garcia, Oziel', '-3743075373434793834'], ['Piwalatkar, Prabhanjan', '-2346628939655053309']]\n",
      "Team 5 :  [['Mendez, Darlyn', '-2821088126533117259'], ['Smith, Jacob', '-1876955248969275672']]\n",
      "Team 6 :  [['Kasula, Sahaj', '-3142352833069730642'], ['Almalki, Mohammed', '-4583537250166767851'], ['Droegemeier, Alec', '-4099458168725805343']]\n"
     ]
    }
   ],
   "source": [
    "import random\n",
    "import csv\n",
    "\n",
    "with open(\"Fall-22-Students.tsv\") as file:\n",
    "    student_file = csv.reader(file, delimiter=\"\\t\")\n",
    "    \n",
    "    student_list = list(student_file)\n",
    "    \n",
    "    group_list = []\n",
    "    for i in range(1,len(student_list)):\n",
    "        group_list.append(student_list[i])\n",
    "    \n",
    "    random.shuffle(group_list)\n",
    "    \n",
    "    print(\"Enter number of teams:\")\n",
    "    n = int(input())\n",
    "    \n",
    "    l = len(group_list) / float(n)\n",
    "    teams = []\n",
    "    index = 0\n",
    "   \n",
    "    while index < len(group_list):\n",
    "        teams.append(group_list[int(index):int(index+l)])\n",
    "        index += l\n",
    "    \n",
    "    \n",
    "    print(\"\\n\", student_list[0])\n",
    "    for i in range(0, len(teams)):\n",
    "        print(\"Team\",(i+1),\": \",teams[i])\n",
    "    "
   ]
  }
 ],
 "metadata": {
  "kernelspec": {
   "display_name": "Python 3 (ipykernel)",
   "language": "python",
   "name": "python3"
  },
  "language_info": {
   "codemirror_mode": {
    "name": "ipython",
    "version": 3
   },
   "file_extension": ".py",
   "mimetype": "text/x-python",
   "name": "python",
   "nbconvert_exporter": "python",
   "pygments_lexer": "ipython3",
   "version": "3.9.12"
  }
 },
 "nbformat": 4,
 "nbformat_minor": 5
}
